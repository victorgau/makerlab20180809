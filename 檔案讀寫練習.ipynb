{
 "cells": [
  {
   "cell_type": "markdown",
   "metadata": {},
   "source": [
    "# 檔案讀寫練習"
   ]
  },
  {
   "cell_type": "markdown",
   "metadata": {},
   "source": [
    "## 複習一下"
   ]
  },
  {
   "cell_type": "markdown",
   "metadata": {},
   "source": [
    "## 檔案的讀寫方式\n",
    "\n",
    "1. 使用 <font color=\"red\">open()</font> 來打開檔案，並選擇操作模式 (mode)，預設的操作模式為 'r'，即讀取模式。\n",
    "2. 使用 read() 或 write() 等等方法來讀寫檔案。\n",
    "3. 使用 <font color=\"red\">close()</font> 來關閉檔案，將記憶體內的位元組寫入檔案，並釋放資源。"
   ]
  },
  {
   "cell_type": "markdown",
   "metadata": {},
   "source": [
    "## open() 的模式 (mode) 字元：\n",
    "\n",
    "|字元|說明|\n",
    "|:-:|:-|\n",
    "|r|讀取模式|\n",
    "|w|寫入模式|\n",
    "|x|檔案不存在時才寫入|\n",
    "|a|附加模式|\n",
    "|b|二進位模式|\n",
    "|t|文字模式|\n",
    "|+|更新模式|\n",
    "\n",
    "<font color=\"red\">注意：使用\"w\"會覆蓋掉舊檔案的內容。</font>"
   ]
  },
  {
   "cell_type": "markdown",
   "metadata": {},
   "source": [
    "## 讀取文字檔\n",
    "\n",
    "用下面三個函式，讀取文字檔資料：\n",
    "\n",
    "* read()：一次讀完全部內容。\n",
    "* readline()：一次讀一行。\n",
    "* readlines()：一次讀完全部的行數，並放在 list 裡面。"
   ]
  },
  {
   "cell_type": "markdown",
   "metadata": {},
   "source": [
    "## 寫入文字檔\n",
    "\n",
    "用下面兩個函式，寫入文字檔資料：\n",
    "\n",
    "* write()：將字串寫入檔案中\n",
    "* writelines()：將 list 中的字串寫入檔案中"
   ]
  },
  {
   "cell_type": "markdown",
   "metadata": {},
   "source": [
    "## 用 with 建立檔案，會自動呼叫 close() \n",
    "\n",
    "語法：\n",
    "\n",
    "```python\n",
    "with open(\"test.txt\") as f:\n",
    "    data = f.read()\n",
    "    print(data)\n",
    "```"
   ]
  },
  {
   "cell_type": "markdown",
   "metadata": {},
   "source": [
    "***"
   ]
  },
  {
   "cell_type": "markdown",
   "metadata": {},
   "source": [
    "### 範例一\n",
    "\n",
    "* 將字串寫入檔案"
   ]
  },
  {
   "cell_type": "code",
   "execution_count": null,
   "metadata": {},
   "outputs": [],
   "source": [
    "data = \"\"\"聯準會宣布升息一碼至 1.50%~1.75% 區間，符合預期，央行官員維持 2018 年共升息三碼的預測不變，但利率點陣圖分布較去年 12 月會議上移，未來兩年升息路徑趨陡。富蘭克林證券投顧副總經理羅尤美表示，因聯準會鷹派程度低於市場預期，壓抑公債殖利率及美元指數走低，新興市場貨幣順勢升值，而美股走勢震盪，收盤小跌作收。\n",
    "\n",
    "羅尤美指出，依據聯準會利率點陣圖顯示，明、後兩年升息速度可能略為加快，但幅度仍屬溫和，揣測聯準會一年要升息幾次其實並無太大意義，因為聯準會的利率決策將依據當時的經濟數據進行調整，重點應放在美國強健的經濟基本面，伴隨溫和上揚的通膨及利率環境，並不會改變景氣及市場方向，看好美國企業稅制改革的潛力可望帶動企業匯回海外獲利及鼓勵企業增加國內投資，支持更高的經濟和獲利增長。\n",
    "\n",
    "此外，本次會議是聯準會新任主席鮑爾上任以來主持的首場利率會議，因此許多觀察人士急於了解鮑爾的方法或溝通方式是否與過往有所不同，不過觀察鮑爾的評論雖較前任主席葉倫簡潔，但溝通方式並無太大不同，顯示聯準會政策的延續性與一貫性。鮑爾主席於會後記者會表示，進一步漸進升息是實現聯準會目標的最佳方式，聯準會維持溫和漸進升息的步調，有利風險性資產表現。\n",
    "\n",
    "羅尤美表示，儘管川普政府的貿易保護政策仍將不定期干擾投資信心，若引發全面貿易戰爭確實將使全球經濟成長前景受到威脅，但評估川普政府主要是希望透過貿易談判爭取中國等國家加速開放市場，基本情境預期並不至於引發全面貿易戰。\n",
    "\n",
    "羅尤美建議，後續留意與智慧財產權相關 301 條款調查報告，消息面仍可能造成股市波動，建議現階段操作應穩中求進，以高息資產為核心，首選新興國家當地貨幣債券型基金、美國及亞洲平衡型基金，以及有放空美國公債的全球債券型基金，股票市場留意震盪加碼機會，美元休息有利新興市場表現轉強，看好金磚四國等新興市場股票型基金，掌握商品、科技、人口紅利等成長題材。\"\"\""
   ]
  },
  {
   "cell_type": "code",
   "execution_count": null,
   "metadata": {},
   "outputs": [],
   "source": [
    "f = open(\"test.txt\", \"w\")\n",
    "f.write(data)\n",
    "f.close()"
   ]
  },
  {
   "cell_type": "markdown",
   "metadata": {},
   "source": [
    "### 範例二\n",
    "\n",
    "* 將 test.txt 的內容印出來"
   ]
  },
  {
   "cell_type": "code",
   "execution_count": null,
   "metadata": {},
   "outputs": [],
   "source": [
    "# 方法一\n",
    "f = open('test.txt')\n",
    "data = f.read()\n",
    "print(data)\n",
    "f.close()"
   ]
  },
  {
   "cell_type": "code",
   "execution_count": null,
   "metadata": {},
   "outputs": [],
   "source": [
    "# 方法二\n",
    "f = open('test.txt')\n",
    "line = f.readline()\n",
    "while line:\n",
    "    print(line, end=\"\")\n",
    "    line = f.readline()\n",
    "f.close()"
   ]
  },
  {
   "cell_type": "code",
   "execution_count": null,
   "metadata": {},
   "outputs": [],
   "source": [
    "# 方法三\n",
    "f = open('test.txt')\n",
    "lines = f.readlines()\n",
    "for line in lines:\n",
    "    print(line, end=\"\")\n",
    "f.close()"
   ]
  },
  {
   "cell_type": "code",
   "execution_count": null,
   "metadata": {},
   "outputs": [],
   "source": [
    "# 方法四\n",
    "f = open('test.txt')\n",
    "for line in f:\n",
    "    print(line, end=\"\")\n",
    "f.close()"
   ]
  },
  {
   "cell_type": "markdown",
   "metadata": {},
   "source": [
    "***"
   ]
  },
  {
   "cell_type": "markdown",
   "metadata": {},
   "source": [
    "# 動手做做看"
   ]
  },
  {
   "cell_type": "markdown",
   "metadata": {},
   "source": [
    "### 練習一\n",
    "\n",
    "* 請使用 with...as... 的語法開啟 test01.txt ，並印出裡面的內容。\n",
    "* 打開 test01.txt，比較一下印出來的東西跟檔案裡面的是否一樣。"
   ]
  },
  {
   "cell_type": "markdown",
   "metadata": {},
   "source": [
    "### 練習二\n",
    "\n",
    "* 使用 with...as... 的語法將底下的 data 字串的內容，寫入 test02.txt 中。\n",
    "* 打開 test02.txt，看看自己是否正確寫入。"
   ]
  },
  {
   "cell_type": "code",
   "execution_count": null,
   "metadata": {},
   "outputs": [],
   "source": [
    "data = \"\"\"展望未來，統計處指出，由於各式消費性電子產品不斷創新升級，加上車用電子、物聯網、高效能運算等科技應用擴展，國內電子產品相關供應鏈可望受惠；此外，國際景氣回溫，投資設備需求殷切，加上原物料價格續居高檔及國內鋼鐵廠高爐歲修結束，將挹注機械設備、化學材料及基本金屬等各業的生產動能，預計第 1 季製造業生產將續呈成長，但在高基期效應下，增幅將趨和緩。\n",
    "\n",
    "統計處表示，預估 3 月年增率將持平，主因去年 3 月製造業基期高，今年第 1 季年增 3%，另外，看好第 2 季也將呈現成長；不過美中關係緊張則是不確定因素，後續影響有待觀察。\n",
    "\n",
    "統計處副處長王淑娟指出，台灣製造業生產中電子零件占三分之一，有很多在中國加工製造，赴中國設廠生產的業者將受到美中貿易戰的影響；但她認為，由於台灣業者技術具競爭力，後續是否出現轉單效應等相關影響也是要持續觀察。\"\"\""
   ]
  },
  {
   "cell_type": "markdown",
   "metadata": {},
   "source": [
    "### 練習三\n",
    "\n",
    "* 將 test01.txt 的內容，拷貝到 test03.txt 裡面去。"
   ]
  },
  {
   "cell_type": "markdown",
   "metadata": {},
   "source": [
    "### 練習四\n",
    "\n",
    "* 請用爬蟲抓取底下 url 的新聞內容，並將之存入 test04.txt 中。"
   ]
  },
  {
   "cell_type": "code",
   "execution_count": null,
   "metadata": {},
   "outputs": [],
   "source": [
    "url = \"https://news.cnyes.com/news/id/4075849\""
   ]
  },
  {
   "cell_type": "markdown",
   "metadata": {},
   "source": [
    "### 練習五 (應用題)\n",
    "\n",
    "* 請用爬蟲抓取底下 url 的圖片，並將之存入 logo.jpg 中。"
   ]
  },
  {
   "cell_type": "code",
   "execution_count": null,
   "metadata": {},
   "outputs": [],
   "source": [
    "url = \"https://i.imgur.com/v4FnOaY.jpg\""
   ]
  }
 ],
 "metadata": {
  "kernelspec": {
   "display_name": "Python 3",
   "language": "python",
   "name": "python3"
  },
  "language_info": {
   "codemirror_mode": {
    "name": "ipython",
    "version": 3
   },
   "file_extension": ".py",
   "mimetype": "text/x-python",
   "name": "python",
   "nbconvert_exporter": "python",
   "pygments_lexer": "ipython3",
   "version": "3.6.4"
  }
 },
 "nbformat": 4,
 "nbformat_minor": 2
}
