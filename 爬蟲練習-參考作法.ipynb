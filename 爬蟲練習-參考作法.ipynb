{
 "cells": [
  {
   "cell_type": "markdown",
   "metadata": {},
   "source": [
    "# 爬蟲練習"
   ]
  },
  {
   "cell_type": "markdown",
   "metadata": {},
   "source": [
    "## 複習一下"
   ]
  },
  {
   "cell_type": "markdown",
   "metadata": {},
   "source": [
    "### requests 的使用\n",
    "\n",
    "* 使用 get 方法讀取網站原始碼\n",
    "\n",
    "```python\n",
    "r = requests.get(url)\n",
    "```\n",
    "\n",
    "* 使用 post 方法讀取網站原始碼\n",
    "\n",
    "```python\n",
    "r = requests.post(url, data=data)\n",
    "```\n",
    "\n",
    "參考連結：[Python Requests.Quickstart](http://docs.python-requests.org/en/master/user/quickstart/)"
   ]
  },
  {
   "cell_type": "markdown",
   "metadata": {},
   "source": [
    "### 使用 beautifulsoup 剖析 HTML 程式碼\n",
    "\n",
    "```python\n",
    "from bs4 import BeautifulSoup\n",
    "soup = BeautifulSoup(r.text, 'lxml')\n",
    "soup.select('div p')[0].text\n",
    "```\n",
    "\n",
    "CSS Selector 的使用請參考：\n",
    "\n",
    "* [CSS Selector Reference](https://www.w3schools.com/cssref/css_selectors.asp)\n",
    "* [CSS Attribute Selector](https://www.w3schools.com/css/css_attribute_selectors.asp)\n",
    "\n",
    "BeautifulSoup 的其他使用方式，請參考：\n",
    "\n",
    "* [Beautiful Soup 4.2.0 文档](https://www.crummy.com/software/BeautifulSoup/bs4/doc/index.zh.html)"
   ]
  },
  {
   "cell_type": "markdown",
   "metadata": {},
   "source": [
    "### 剖析 json 檔\n",
    "\n",
    "* 使用 requests 抓取 json 檔，可以在後面加上 .json() 直接剖析 json 檔案。\n",
    "* 如果是檔案或字串，可以使用 json 模組來剖析。"
   ]
  },
  {
   "cell_type": "markdown",
   "metadata": {},
   "source": [
    "## 可以練習抓資料的網址：\n",
    "\n",
    "* [政府開放資料平台](https://data.gov.tw/)\n",
    "* [鉅亨網](https://www.cnyes.com/)"
   ]
  },
  {
   "cell_type": "markdown",
   "metadata": {},
   "source": [
    "***"
   ]
  },
  {
   "cell_type": "code",
   "execution_count": null,
   "metadata": {},
   "outputs": [],
   "source": [
    "import requests\n",
    "from bs4 import BeautifulSoup"
   ]
  },
  {
   "cell_type": "markdown",
   "metadata": {},
   "source": [
    "### 範例一\n",
    "\n",
    "* 請抓取底下 url 的網站原始碼"
   ]
  },
  {
   "cell_type": "code",
   "execution_count": null,
   "metadata": {},
   "outputs": [],
   "source": [
    "url = \"http://example.com\""
   ]
  },
  {
   "cell_type": "code",
   "execution_count": null,
   "metadata": {},
   "outputs": [],
   "source": [
    "r = requests.get(url)"
   ]
  },
  {
   "cell_type": "code",
   "execution_count": null,
   "metadata": {},
   "outputs": [],
   "source": [
    "r.text"
   ]
  },
  {
   "cell_type": "markdown",
   "metadata": {},
   "source": [
    "### 範例二\n",
    "\n",
    "* 讀取底下 url 裡面的 json 檔\n",
    "\n",
    "參考：[https://bit.ly/2FZbAcz](https://bit.ly/2FZbAcz)"
   ]
  },
  {
   "cell_type": "code",
   "execution_count": null,
   "metadata": {},
   "outputs": [],
   "source": [
    "url = \"http://opendata.khcc.gov.tw/public/OD_ksml_info.ashx\""
   ]
  },
  {
   "cell_type": "code",
   "execution_count": null,
   "metadata": {},
   "outputs": [],
   "source": [
    "data = requests.get(url).json()"
   ]
  },
  {
   "cell_type": "code",
   "execution_count": null,
   "metadata": {},
   "outputs": [],
   "source": [
    "data[0]"
   ]
  },
  {
   "cell_type": "code",
   "execution_count": null,
   "metadata": {},
   "outputs": [],
   "source": [
    "for x in data[:5]:\n",
    "    print(x['Title'], \"==>\", x['OpenTime'])"
   ]
  },
  {
   "cell_type": "markdown",
   "metadata": {},
   "source": [
    "### 範例三\n",
    "\n",
    "* 使用 requests + BequtifulSoup 抓取底下 url 的新聞文章。\n",
    "* url = \"[https://news.cnyes.com/news/id/3949102](https://news.cnyes.com/news/id/3949102)\""
   ]
  },
  {
   "cell_type": "code",
   "execution_count": null,
   "metadata": {},
   "outputs": [],
   "source": [
    "url = 'https://news.cnyes.com/news/id/3949102'"
   ]
  },
  {
   "cell_type": "code",
   "execution_count": null,
   "metadata": {},
   "outputs": [],
   "source": [
    "r = requests.get(url)\n",
    "soup = BeautifulSoup(r.text, 'lxml')\n",
    "soup.select('div[itemprop=\"articleBody\"]')[0].text"
   ]
  },
  {
   "cell_type": "markdown",
   "metadata": {},
   "source": [
    "***"
   ]
  },
  {
   "cell_type": "markdown",
   "metadata": {},
   "source": [
    "# 動手做做看"
   ]
  },
  {
   "cell_type": "markdown",
   "metadata": {},
   "source": [
    "## 請抓取底下連結的新聞文章\n",
    "\n",
    "url = '[https://tw.finance.appledaily.com/realtime/20180121/1283033/](https://tw.finance.appledaily.com/realtime/20180121/1283033/)'"
   ]
  },
  {
   "cell_type": "code",
   "execution_count": null,
   "metadata": {},
   "outputs": [],
   "source": [
    "url = 'https://tw.finance.appledaily.com/realtime/20180121/1283033/'"
   ]
  },
  {
   "cell_type": "code",
   "execution_count": null,
   "metadata": {},
   "outputs": [],
   "source": [
    "r = requests.get(url)\n",
    "soup = BeautifulSoup(r.text, 'lxml')\n",
    "soup.select('div.ndArticle_contentBox > article > div > p')[0].text"
   ]
  },
  {
   "cell_type": "markdown",
   "metadata": {},
   "source": [
    "## 請列出底下連結的新聞標題\n",
    "\n",
    "url = \"[http://news.ltn.com.tw/list/breakingnews/business](http://news.ltn.com.tw/list/breakingnews/business)\""
   ]
  },
  {
   "cell_type": "code",
   "execution_count": null,
   "metadata": {},
   "outputs": [],
   "source": [
    "url = \"http://news.ltn.com.tw/list/breakingnews/business\""
   ]
  },
  {
   "cell_type": "code",
   "execution_count": null,
   "metadata": {},
   "outputs": [],
   "source": [
    "r = requests.get(url)\n",
    "soup = BeautifulSoup(r.text, 'lxml')\n",
    "news_list = soup.select('div.whitecon.boxTitle a.tit p')"
   ]
  },
  {
   "cell_type": "code",
   "execution_count": null,
   "metadata": {},
   "outputs": [],
   "source": [
    "for news in news_list:\n",
    "    print(news.text)"
   ]
  }
 ],
 "metadata": {
  "kernelspec": {
   "display_name": "Python 3",
   "language": "python",
   "name": "python3"
  },
  "language_info": {
   "codemirror_mode": {
    "name": "ipython",
    "version": 3
   },
   "file_extension": ".py",
   "mimetype": "text/x-python",
   "name": "python",
   "nbconvert_exporter": "python",
   "pygments_lexer": "ipython3",
   "version": "3.6.4"
  }
 },
 "nbformat": 4,
 "nbformat_minor": 2
}
