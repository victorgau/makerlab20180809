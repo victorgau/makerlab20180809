{
 "cells": [
  {
   "cell_type": "markdown",
   "metadata": {},
   "source": [
    "# 基本運算及條件判斷練習"
   ]
  },
  {
   "cell_type": "markdown",
   "metadata": {},
   "source": [
    "## 複習一下：\n",
    "\n",
    "### 資料型態相關：\n",
    "\n",
    "* type() 函式可以用來判斷變數的型態。\n",
    "* 使用 (/) 做整數相除，輸出結果會是浮點數。使用 (//) 輸出的結果才會是整數。\n",
    "\n",
    "### 字串的格式化輸出：\n",
    "\n",
    "* \"我喜歡{}、{}和{}\".format(\"Apple\", \"Orange\", \"Banana\")\n",
    "* \"我喜歡{0}、{1}和{2}\".format(\"Apple\", \"Orange\", \"Banana\")\n",
    "* \"我喜歡{first}、{second}和{third}\".format(first=\"Apple\", second=\"Orange\", third=\"Banana\")\n",
    "\n",
    "### if statement 語法：\n",
    "\n",
    "```python\n",
    "# 語法 01\n",
    "if 條件式:\n",
    "    欲執行程式區塊\n",
    "\n",
    "# 語法 02\n",
    "if 條件式:\n",
    "    欲執行程式區塊\n",
    "else:\n",
    "    欲執行程式區塊\n",
    "\n",
    "# 語法 03\n",
    "if 條件式:\n",
    "    欲執行程式區塊\n",
    "elif 條件式:\n",
    "    欲執行程式區塊\n",
    "else:\n",
    "    欲執行程式區塊\n",
    "    \n",
    "```\n",
    "\n",
    "條件式的部分，可以是多個條件式的 and, or, 跟 not 的組合。\n",
    "\n",
    "***"
   ]
  },
  {
   "cell_type": "markdown",
   "metadata": {},
   "source": [
    "### 範例一\n",
    "\n",
    "* 使用 input() 讀取使用者輸入"
   ]
  },
  {
   "cell_type": "code",
   "execution_count": null,
   "metadata": {},
   "outputs": [],
   "source": [
    "name = input(\"請輸入您的名字：\")\n",
    "print(\"Hello,\", name)"
   ]
  },
  {
   "cell_type": "code",
   "execution_count": null,
   "metadata": {},
   "outputs": [],
   "source": [
    "type(name)"
   ]
  },
  {
   "cell_type": "markdown",
   "metadata": {},
   "source": [
    "***"
   ]
  },
  {
   "cell_type": "markdown",
   "metadata": {},
   "source": [
    "# 動手做做看："
   ]
  },
  {
   "cell_type": "markdown",
   "metadata": {},
   "source": [
    "## 1. 請使用者輸入西元年，將西元年轉成民國年後輸出\n",
    "\n",
    "提示：用 input() 讀取使用者輸入"
   ]
  },
  {
   "cell_type": "code",
   "execution_count": 1,
   "metadata": {},
   "outputs": [
    {
     "name": "stdout",
     "output_type": "stream",
     "text": [
      "請輸入西元年：2018\n",
      "今年是民國 107 年！\n"
     ]
    }
   ],
   "source": [
    "year = input('請輸入西元年：')\n",
    "\n",
    "print('今年是民國', int(year)-1911, '年！')"
   ]
  },
  {
   "cell_type": "markdown",
   "metadata": {},
   "source": [
    "## 2. 寫一個計算BMI的程式\n",
    "\n",
    "BMI 定義如下：\n",
    "$$BMI=\\frac{體重(kg)}{身高(m)^2}$$\n",
    "\n",
    "|BMI大小|意義|\n",
    "|---|---|\n",
    "|BMI<18.5|體重過輕|\n",
    "|18.5<=BMI<24|健康體位|\n",
    "|24<=BMI<27|體重過重|\n",
    "|27<=BMI<30|輕度肥胖|\n",
    "|30<=BMI<35|中度肥胖|\n",
    "|BMI>=35|重度肥胖|\n",
    "\n",
    "[BMI 測試](https://goo.gl/ygwfkw)"
   ]
  },
  {
   "cell_type": "code",
   "execution_count": 2,
   "metadata": {},
   "outputs": [
    {
     "name": "stdout",
     "output_type": "stream",
     "text": [
      "請輸入您的身高 (cm)：180\n",
      "請輸入您的體重 (kg)：75\n"
     ]
    }
   ],
   "source": [
    "# 讀入身高\n",
    "h = input(\"請輸入您的身高 (cm)：\")\n",
    "# 讀入體重\n",
    "w = input(\"請輸入您的體重 (kg)：\")"
   ]
  },
  {
   "cell_type": "code",
   "execution_count": 3,
   "metadata": {},
   "outputs": [],
   "source": [
    "bmi = int(w)/(int(h)/100)**2"
   ]
  },
  {
   "cell_type": "code",
   "execution_count": 4,
   "metadata": {},
   "outputs": [
    {
     "data": {
      "text/plain": [
       "23.148148148148145"
      ]
     },
     "execution_count": 4,
     "metadata": {},
     "output_type": "execute_result"
    }
   ],
   "source": [
    "bmi"
   ]
  },
  {
   "cell_type": "code",
   "execution_count": 5,
   "metadata": {},
   "outputs": [
    {
     "name": "stdout",
     "output_type": "stream",
     "text": [
      "體重正常！\n"
     ]
    }
   ],
   "source": [
    "if bmi < 18:\n",
    "    print('體重過輕！')\n",
    "elif 18<= bmi < 24:\n",
    "    print('體重正常！')\n",
    "else:\n",
    "    print('體重過重！')"
   ]
  }
 ],
 "metadata": {
  "kernelspec": {
   "display_name": "Python 3",
   "language": "python",
   "name": "python3"
  },
  "language_info": {
   "codemirror_mode": {
    "name": "ipython",
    "version": 3
   },
   "file_extension": ".py",
   "mimetype": "text/x-python",
   "name": "python",
   "nbconvert_exporter": "python",
   "pygments_lexer": "ipython3",
   "version": "3.6.4"
  }
 },
 "nbformat": 4,
 "nbformat_minor": 2
}
