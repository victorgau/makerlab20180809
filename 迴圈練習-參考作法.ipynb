{
 "cells": [
  {
   "cell_type": "markdown",
   "metadata": {},
   "source": [
    "# 迴圈練習"
   ]
  },
  {
   "cell_type": "markdown",
   "metadata": {},
   "source": [
    "## 複習一下：\n",
    "\n",
    "迴圈有兩類：\n",
    "\n",
    "* for 迴圈\n",
    "* while 迴圈\n",
    "\n",
    "### for 迴圈語法如下：\n",
    "\n",
    "```python\n",
    "for 變數 in 資料結構：\n",
    "    欲執行的程式區塊\n",
    "```\n",
    "\n",
    "最常配合 for 迴圈使用的資料結構是 range()。\n",
    "\n",
    "### while 迴圈語法如下：\n",
    "\n",
    "```python\n",
    "while 條件式：\n",
    "    欲執行的程式區塊\n",
    "```\n",
    "\n",
    "### break 跟 continue：\n",
    "\n",
    "* break 用來跳出迴圈\n",
    "* continue 用來跳到迴圈的下一個循環"
   ]
  },
  {
   "cell_type": "markdown",
   "metadata": {},
   "source": [
    "***"
   ]
  },
  {
   "cell_type": "markdown",
   "metadata": {},
   "source": [
    "### 範例一\n",
    "\n",
    "* 使用 for 迴圈印出 0~9"
   ]
  },
  {
   "cell_type": "code",
   "execution_count": null,
   "metadata": {},
   "outputs": [],
   "source": [
    "for i in range(10):\n",
    "    print(i)"
   ]
  },
  {
   "cell_type": "markdown",
   "metadata": {},
   "source": [
    "### 範例二\n",
    "\n",
    "* 使用 while 迴圈印出 0~9"
   ]
  },
  {
   "cell_type": "code",
   "execution_count": null,
   "metadata": {},
   "outputs": [],
   "source": [
    "i = 0\n",
    "while i < 10:\n",
    "    print(i)\n",
    "    i += 1"
   ]
  },
  {
   "cell_type": "markdown",
   "metadata": {},
   "source": [
    "***"
   ]
  },
  {
   "cell_type": "markdown",
   "metadata": {},
   "source": [
    "## 請用 '*' 畫出金字塔\n",
    "\n",
    "如：\n",
    "\n",
    "        *\n",
    "       ***\n",
    "      *****\n",
    "     *******\n",
    "    *********"
   ]
  },
  {
   "cell_type": "code",
   "execution_count": 1,
   "metadata": {},
   "outputs": [
    {
     "name": "stdout",
     "output_type": "stream",
     "text": [
      "     *\n",
      "    ***\n",
      "   *****\n",
      "  *******\n",
      " *********\n"
     ]
    }
   ],
   "source": [
    "for i in range(5):\n",
    "    print(' '*(5-i)+'*'*(2*i+1))"
   ]
  },
  {
   "cell_type": "markdown",
   "metadata": {},
   "source": [
    "## 請用 '*' 畫出菱形\n",
    "\n",
    "如：\n",
    "\n",
    "        *\n",
    "       ***\n",
    "      *****\n",
    "     *******\n",
    "    *********\n",
    "     *******\n",
    "      *****\n",
    "       ***\n",
    "        *"
   ]
  },
  {
   "cell_type": "code",
   "execution_count": 6,
   "metadata": {},
   "outputs": [
    {
     "name": "stdout",
     "output_type": "stream",
     "text": [
      "     *\n",
      "    ***\n",
      "   *****\n",
      "  *******\n",
      " *********\n",
      "  *******\n",
      "   *****\n",
      "    ***\n",
      "     *\n"
     ]
    }
   ],
   "source": [
    "for i in range(5):\n",
    "    print(' '*(5-i)+'*'*(2*i+1))\n",
    "for i in range(3, -1, -1):\n",
    "    print(' '*(5-i)+'*'*(2*i+1))"
   ]
  },
  {
   "cell_type": "markdown",
   "metadata": {},
   "source": [
    "## 請寫一個九九乘法表"
   ]
  },
  {
   "cell_type": "code",
   "execution_count": 7,
   "metadata": {},
   "outputs": [
    {
     "name": "stdout",
     "output_type": "stream",
     "text": [
      "2 * 2 = 4\n",
      "2 * 3 = 6\n",
      "2 * 4 = 8\n",
      "2 * 5 = 10\n",
      "2 * 6 = 12\n",
      "2 * 7 = 14\n",
      "2 * 8 = 16\n",
      "2 * 9 = 18\n",
      "3 * 2 = 6\n",
      "3 * 3 = 9\n",
      "3 * 4 = 12\n",
      "3 * 5 = 15\n",
      "3 * 6 = 18\n",
      "3 * 7 = 21\n",
      "3 * 8 = 24\n",
      "3 * 9 = 27\n",
      "4 * 2 = 8\n",
      "4 * 3 = 12\n",
      "4 * 4 = 16\n",
      "4 * 5 = 20\n",
      "4 * 6 = 24\n",
      "4 * 7 = 28\n",
      "4 * 8 = 32\n",
      "4 * 9 = 36\n",
      "5 * 2 = 10\n",
      "5 * 3 = 15\n",
      "5 * 4 = 20\n",
      "5 * 5 = 25\n",
      "5 * 6 = 30\n",
      "5 * 7 = 35\n",
      "5 * 8 = 40\n",
      "5 * 9 = 45\n",
      "6 * 2 = 12\n",
      "6 * 3 = 18\n",
      "6 * 4 = 24\n",
      "6 * 5 = 30\n",
      "6 * 6 = 36\n",
      "6 * 7 = 42\n",
      "6 * 8 = 48\n",
      "6 * 9 = 54\n",
      "7 * 2 = 14\n",
      "7 * 3 = 21\n",
      "7 * 4 = 28\n",
      "7 * 5 = 35\n",
      "7 * 6 = 42\n",
      "7 * 7 = 49\n",
      "7 * 8 = 56\n",
      "7 * 9 = 63\n",
      "8 * 2 = 16\n",
      "8 * 3 = 24\n",
      "8 * 4 = 32\n",
      "8 * 5 = 40\n",
      "8 * 6 = 48\n",
      "8 * 7 = 56\n",
      "8 * 8 = 64\n",
      "8 * 9 = 72\n",
      "9 * 2 = 18\n",
      "9 * 3 = 27\n",
      "9 * 4 = 36\n",
      "9 * 5 = 45\n",
      "9 * 6 = 54\n",
      "9 * 7 = 63\n",
      "9 * 8 = 72\n",
      "9 * 9 = 81\n"
     ]
    }
   ],
   "source": [
    "# 參考作法 - 01\n",
    "for i in range(2, 10):\n",
    "    for j in range(2, 10):\n",
    "        print(i, '*', j, '=', i*j)"
   ]
  },
  {
   "cell_type": "code",
   "execution_count": 8,
   "metadata": {},
   "outputs": [
    {
     "name": "stdout",
     "output_type": "stream",
     "text": [
      "2x2=4\t3x2=6\t4x2=8\t5x2=10\t\n",
      "2x3=6\t3x3=9\t4x3=12\t5x3=15\t\n",
      "2x4=8\t3x4=12\t4x4=16\t5x4=20\t\n",
      "2x5=10\t3x5=15\t4x5=20\t5x5=25\t\n",
      "2x6=12\t3x6=18\t4x6=24\t5x6=30\t\n",
      "2x7=14\t3x7=21\t4x7=28\t5x7=35\t\n",
      "2x8=16\t3x8=24\t4x8=32\t5x8=40\t\n",
      "2x9=18\t3x9=27\t4x9=36\t5x9=45\t\n",
      "\n",
      "6x2=12\t7x2=14\t8x2=16\t9x2=18\t\n",
      "6x3=18\t7x3=21\t8x3=24\t9x3=27\t\n",
      "6x4=24\t7x4=28\t8x4=32\t9x4=36\t\n",
      "6x5=30\t7x5=35\t8x5=40\t9x5=45\t\n",
      "6x6=36\t7x6=42\t8x6=48\t9x6=54\t\n",
      "6x7=42\t7x7=49\t8x7=56\t9x7=63\t\n",
      "6x8=48\t7x8=56\t8x8=64\t9x8=72\t\n",
      "6x9=54\t7x9=63\t8x9=72\t9x9=81\t\n",
      "\n"
     ]
    }
   ],
   "source": [
    "# 參考作法 - 02\n",
    "def mtable(n_start, n_columns):\n",
    "    for i in range(2, 10):\n",
    "        for j in range(n_start, n_start + n_columns):\n",
    "            print('{}x{}={}\\t'.format(j, i, i*j), end='')\n",
    "        print()\n",
    "    print()\n",
    "\n",
    "mtable(2, 4)\n",
    "mtable(6, 4)"
   ]
  }
 ],
 "metadata": {
  "kernelspec": {
   "display_name": "Python 3",
   "language": "python",
   "name": "python3"
  },
  "language_info": {
   "codemirror_mode": {
    "name": "ipython",
    "version": 3
   },
   "file_extension": ".py",
   "mimetype": "text/x-python",
   "name": "python",
   "nbconvert_exporter": "python",
   "pygments_lexer": "ipython3",
   "version": "3.6.4"
  }
 },
 "nbformat": 4,
 "nbformat_minor": 2
}
