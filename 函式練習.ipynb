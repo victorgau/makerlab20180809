{
 "cells": [
  {
   "cell_type": "markdown",
   "metadata": {},
   "source": [
    "# 函式練習"
   ]
  },
  {
   "cell_type": "markdown",
   "metadata": {},
   "source": [
    "## 複習一下\n",
    "\n",
    "### 函式定義：\n",
    "\n",
    "* 無引數、無回傳值\n",
    "\n",
    "```python\n",
    "def FunctionName():\n",
    "    欲執行程式區塊\n",
    "```\n",
    "\n",
    "* 有引數、無回傳值\n",
    "\n",
    "```python\n",
    "def FunctionName(arg1, arg2):\n",
    "    欲執行程式區塊\n",
    "```\n",
    "\n",
    "* 兩個引數、有回傳值\n",
    "\n",
    "```python\n",
    "def FunctionName(arg1, arg2):\n",
    "    欲執行程式區塊\n",
    "    return 回傳值\n",
    "```"
   ]
  },
  {
   "cell_type": "markdown",
   "metadata": {},
   "source": [
    "### 函式呼叫：\n",
    "\n",
    "* 無傳入引數\n",
    "\n",
    "```python\n",
    "FunctionName()\n",
    "```\n",
    "\n",
    "* 傳入兩個引數\n",
    "\n",
    "```python\n",
    "FunctionName(arg1, arg2)\n",
    "```\n",
    "\n",
    "* 傳入兩個引數，用變數承接回傳值\n",
    "\n",
    "```python\n",
    "變數 = FunctionName(arg1, arg2)\n",
    "```"
   ]
  },
  {
   "cell_type": "markdown",
   "metadata": {},
   "source": [
    "### 匿名函式：\n",
    "\n",
    "```python\n",
    "lambda arg1, arg2: 回傳值\n",
    "```"
   ]
  },
  {
   "cell_type": "markdown",
   "metadata": {},
   "source": [
    "***"
   ]
  },
  {
   "cell_type": "markdown",
   "metadata": {},
   "source": [
    "### 範例一\n",
    "\n",
    "* 寫一個函式計算引數的三次方"
   ]
  },
  {
   "cell_type": "code",
   "execution_count": null,
   "metadata": {},
   "outputs": [],
   "source": [
    "def cube(x):\n",
    "    return x**3"
   ]
  },
  {
   "cell_type": "code",
   "execution_count": null,
   "metadata": {},
   "outputs": [],
   "source": [
    "cube(3)"
   ]
  },
  {
   "cell_type": "markdown",
   "metadata": {},
   "source": [
    "***"
   ]
  },
  {
   "cell_type": "markdown",
   "metadata": {},
   "source": [
    "# 動手做做看"
   ]
  },
  {
   "cell_type": "markdown",
   "metadata": {},
   "source": [
    "## 1. 請寫一函式，讀入身高及體重，輸出BMI值"
   ]
  },
  {
   "cell_type": "code",
   "execution_count": null,
   "metadata": {},
   "outputs": [],
   "source": [
    "def bmi(h, w):\n",
    "    pass"
   ]
  },
  {
   "cell_type": "markdown",
   "metadata": {},
   "source": [
    "## 2. 請寫一函式，讀入一個整數，輸出整數高度的金字塔。\n",
    "\n",
    "執行： pyramid(3)\n",
    "\n",
    "輸出：\n",
    "\n",
    "      *\n",
    "     ***\n",
    "    *****\n",
    "\n",
    "執行： pyramid(5)\n",
    "\n",
    "輸出：\n",
    "\n",
    "        *\n",
    "       ***\n",
    "      *****\n",
    "     *******\n",
    "    *********\n"
   ]
  },
  {
   "cell_type": "code",
   "execution_count": null,
   "metadata": {},
   "outputs": [],
   "source": [
    "def pyramid(height):\n",
    "    # TODO: 印出 height 高度的金字塔\n",
    "    pass"
   ]
  }
 ],
 "metadata": {
  "kernelspec": {
   "display_name": "Python 3",
   "language": "python",
   "name": "python3"
  },
  "language_info": {
   "codemirror_mode": {
    "name": "ipython",
    "version": 3
   },
   "file_extension": ".py",
   "mimetype": "text/x-python",
   "name": "python",
   "nbconvert_exporter": "python",
   "pygments_lexer": "ipython3",
   "version": "3.6.4"
  }
 },
 "nbformat": 4,
 "nbformat_minor": 2
}
