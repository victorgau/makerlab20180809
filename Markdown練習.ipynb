{
 "cells": [
  {
   "cell_type": "markdown",
   "metadata": {},
   "source": [
    "# Markdown練習"
   ]
  },
  {
   "cell_type": "markdown",
   "metadata": {},
   "source": [
    "Markdown 的語法可以很方便地讓使用者在 Jupyter Notebook 上面作筆記及寫數學式等等，是很多軟體、科學及工程人員很喜歡使用的工具。\n",
    "\n",
    "底下列出一些常用的語法。相關的說明，請參考：\n",
    "\n",
    "* [Jupyter Notebook 的官網 Markdown Cell 的使用說明](https://bit.ly/2FWxZat)。\n",
    "* [Markdwon Cheatsheet](https://github.com/adam-p/markdown-here/wiki/Markdown-Cheatsheet)\n",
    "\n",
    "***"
   ]
  },
  {
   "cell_type": "markdown",
   "metadata": {},
   "source": [
    "## 標題字型練習\n",
    "\n",
    "依序寫出以下標題：\n",
    "\n",
    "# 最大標題\n",
    "\n",
    "## 次大標題\n",
    "\n",
    "### 次次大標題\n",
    "\n",
    "<br/>\n",
    "<font color=\"red\">提示：需先將 Cell 切換成 Markdown Cell</font>\n"
   ]
  },
  {
   "cell_type": "code",
   "execution_count": null,
   "metadata": {},
   "outputs": [],
   "source": []
  },
  {
   "cell_type": "markdown",
   "metadata": {},
   "source": [
    "## 超連結練習\n",
    "\n",
    "* [KHPY20180224](https://github.com/victorgau/KHPY20180224)\n",
    "* [KHPY20180324](https://github.com/victorgau/KHPY20180324)"
   ]
  },
  {
   "cell_type": "code",
   "execution_count": null,
   "metadata": {},
   "outputs": [],
   "source": []
  },
  {
   "cell_type": "markdown",
   "metadata": {},
   "source": [
    "## 無序列表練習\n",
    "\n",
    "我喜歡吃的水果有：\n",
    "\n",
    "* 蘋果\n",
    "* 香蕉\n",
    "* 鳳梨"
   ]
  },
  {
   "cell_type": "code",
   "execution_count": null,
   "metadata": {},
   "outputs": [],
   "source": []
  },
  {
   "cell_type": "markdown",
   "metadata": {},
   "source": [
    "## 有序列表練習\n",
    "\n",
    "我最喜歡的水果排名：\n",
    "\n",
    "1. 蘋果\n",
    "2. 香蕉\n",
    "3. 鳳梨"
   ]
  },
  {
   "cell_type": "code",
   "execution_count": null,
   "metadata": {},
   "outputs": [],
   "source": []
  },
  {
   "cell_type": "markdown",
   "metadata": {},
   "source": [
    "## 插入程式碼練習\n",
    "\n",
    "底下的程式片段會被上色：\n",
    "\n",
    "```python\n",
    "for i in range(10):\n",
    "    print(i)\n",
    "```"
   ]
  },
  {
   "cell_type": "code",
   "execution_count": null,
   "metadata": {},
   "outputs": [],
   "source": []
  },
  {
   "cell_type": "markdown",
   "metadata": {},
   "source": [
    "## 插入圖形練習\n",
    "\n",
    "![KHPY LOGO](https://i.imgur.com/iPSjdmv.png)"
   ]
  },
  {
   "cell_type": "code",
   "execution_count": null,
   "metadata": {},
   "outputs": [],
   "source": []
  },
  {
   "cell_type": "markdown",
   "metadata": {},
   "source": [
    "## 方程式練習 - 01"
   ]
  },
  {
   "cell_type": "markdown",
   "metadata": {},
   "source": [
    "數學方程式的寫法，請參考 [sharelatex](https://www.sharelatex.com/learn/Mathematical_expressions) 上的說明。\n",
    "\n",
    "嵌入式的方程式，使用 \\$ 來括起來：$e^{i\\pi} + 1 = 0$"
   ]
  },
  {
   "cell_type": "code",
   "execution_count": null,
   "metadata": {},
   "outputs": [],
   "source": []
  },
  {
   "cell_type": "markdown",
   "metadata": {},
   "source": [
    "## 方程式練習 - 02\n",
    "\n",
    "獨佔一行的方程式，使用 \\$\\$ 括起來：\n",
    "\n",
    "$$e^x=\\sum_{i=0}^\\infty \\frac{1}{i!}x^i$$"
   ]
  },
  {
   "cell_type": "code",
   "execution_count": null,
   "metadata": {},
   "outputs": [],
   "source": []
  }
 ],
 "metadata": {
  "kernelspec": {
   "display_name": "Python 3",
   "language": "python",
   "name": "python3"
  },
  "language_info": {
   "codemirror_mode": {
    "name": "ipython",
    "version": 3
   },
   "file_extension": ".py",
   "mimetype": "text/x-python",
   "name": "python",
   "nbconvert_exporter": "python",
   "pygments_lexer": "ipython3",
   "version": "3.6.4"
  }
 },
 "nbformat": 4,
 "nbformat_minor": 2
}
