{
 "cells": [
  {
   "cell_type": "markdown",
   "metadata": {},
   "source": [
    "# 基本資料結構練習"
   ]
  },
  {
   "cell_type": "markdown",
   "metadata": {},
   "source": [
    "## 複習一下"
   ]
  },
  {
   "cell_type": "markdown",
   "metadata": {},
   "source": [
    "這個 Notebook 主要是要讓同學們練習底下四個資料結構的使用。\n",
    "\n",
    "* list (串列 or 列表)\n",
    "* tuple (元組)\n",
    "* dict (字典)\n",
    "* set (集合)"
   ]
  },
  {
   "cell_type": "markdown",
   "metadata": {},
   "source": [
    "### list 跟 tuple"
   ]
  },
  {
   "cell_type": "markdown",
   "metadata": {},
   "source": [
    "list 跟 tuple 的主要差別是：tuple 是 immutable，意思是 tuple 的值被指定了之後就不可以改變。\n",
    "\n",
    "譬如說：\n",
    "\n",
    "```python\n",
    "a = (1, 2, 3)\n",
    "a[0] = 10\n",
    "```\n",
    "會出現錯誤。"
   ]
  },
  {
   "cell_type": "markdown",
   "metadata": {},
   "source": [
    "### dict 跟 set\n",
    "\n",
    "雖然 dict 跟 set 都是使用大括號 \"{ }\" 來表示，但是兩個資料結構是非常不一樣的。\n",
    "\n",
    "dict 裡面存放的是鰎值對 (Key-Value Pair)，而 set 裡面存放的是不重複的元素。\n",
    "\n",
    "另外，\"{}\" 表示的是空字典，空集合的表示方式是 \"set()\" 。"
   ]
  },
  {
   "cell_type": "markdown",
   "metadata": {},
   "source": [
    "### set 的運算"
   ]
  },
  {
   "cell_type": "markdown",
   "metadata": {},
   "source": [
    "* 交集：&\n",
    "* 聯集：|\n",
    "* 差集：-"
   ]
  },
  {
   "cell_type": "markdown",
   "metadata": {},
   "source": [
    "***"
   ]
  },
  {
   "cell_type": "markdown",
   "metadata": {},
   "source": [
    "###  範例一\n",
    "\n",
    "* 請讀取底下 list 的第五個元素。\n",
    "* 注意：python 使用 0-indexing, 第一個元素的位置是 0。"
   ]
  },
  {
   "cell_type": "code",
   "execution_count": null,
   "metadata": {},
   "outputs": [],
   "source": [
    "a = [0, 1, 2, 3, 4, 5, 6, 7, 8, 9]"
   ]
  },
  {
   "cell_type": "code",
   "execution_count": null,
   "metadata": {},
   "outputs": [],
   "source": [
    "a[4]"
   ]
  },
  {
   "cell_type": "markdown",
   "metadata": {},
   "source": [
    "### 範例二\n",
    "\n",
    "* 請讀出底下 list 的第五到八個元素。\n",
    "* 注意：slicing的時候，第一個數字是 inclusive，第二個數字是 exclusive。"
   ]
  },
  {
   "cell_type": "code",
   "execution_count": null,
   "metadata": {},
   "outputs": [],
   "source": [
    "a = [0, 1, 2, 3, 4, 5, 6, 7, 8, 9]"
   ]
  },
  {
   "cell_type": "code",
   "execution_count": null,
   "metadata": {},
   "outputs": [],
   "source": [
    "a[4:8]"
   ]
  },
  {
   "cell_type": "markdown",
   "metadata": {},
   "source": [
    "### 範例三\n",
    "\n",
    "* 請依序印出下面 list 中的元素。"
   ]
  },
  {
   "cell_type": "code",
   "execution_count": null,
   "metadata": {},
   "outputs": [],
   "source": [
    "a = [0, 1, 2, 3, 4, 5, 6, 7, 8, 9]"
   ]
  },
  {
   "cell_type": "code",
   "execution_count": null,
   "metadata": {},
   "outputs": [],
   "source": [
    "for i in a:\n",
    "    print(i)"
   ]
  },
  {
   "cell_type": "markdown",
   "metadata": {},
   "source": [
    "### 範例四\n",
    "\n",
    "* 請反轉底下的 list"
   ]
  },
  {
   "cell_type": "code",
   "execution_count": null,
   "metadata": {},
   "outputs": [],
   "source": [
    "a = [0, 1, 2, 3, 4, 5, 6, 7, 8, 9]"
   ]
  },
  {
   "cell_type": "code",
   "execution_count": null,
   "metadata": {},
   "outputs": [],
   "source": [
    "a[::-1]"
   ]
  },
  {
   "cell_type": "code",
   "execution_count": null,
   "metadata": {},
   "outputs": [],
   "source": [
    "a"
   ]
  },
  {
   "cell_type": "code",
   "execution_count": null,
   "metadata": {},
   "outputs": [],
   "source": [
    "a = a[::-1]"
   ]
  },
  {
   "cell_type": "code",
   "execution_count": null,
   "metadata": {},
   "outputs": [],
   "source": [
    "a"
   ]
  },
  {
   "cell_type": "markdown",
   "metadata": {},
   "source": [
    "### 範例五\n",
    "\n",
    "* 請讀取下面字典的\"apple\"的值。"
   ]
  },
  {
   "cell_type": "code",
   "execution_count": null,
   "metadata": {},
   "outputs": [],
   "source": [
    "x = {\"apple\":10, \"orange\":20, \"banana\":30}"
   ]
  },
  {
   "cell_type": "code",
   "execution_count": null,
   "metadata": {},
   "outputs": [],
   "source": [
    "x['apple']"
   ]
  },
  {
   "cell_type": "markdown",
   "metadata": {},
   "source": [
    "***"
   ]
  },
  {
   "cell_type": "markdown",
   "metadata": {},
   "source": [
    "# 動手做做看"
   ]
  },
  {
   "cell_type": "markdown",
   "metadata": {},
   "source": [
    "## 1. 請反轉底下的 list 裡面的 list\n",
    "\n",
    "```python\n",
    "a = [1, 2, 3, 4, [5, 6, 7, 8], 9, 10]\n",
    "```"
   ]
  },
  {
   "cell_type": "code",
   "execution_count": null,
   "metadata": {},
   "outputs": [],
   "source": [
    "a = [1, 2, 3, 4, [5, 6, 7, 8], 9, 10]"
   ]
  },
  {
   "cell_type": "markdown",
   "metadata": {},
   "source": [
    "## 2. 給定串列 a 如下，請找出 a 中的最大值，最小值，及平均值\n",
    "\n",
    "```python\n",
    "a = [1, 3, 5, 7, 9, 2, 4, 8]\n",
    "```"
   ]
  },
  {
   "cell_type": "code",
   "execution_count": null,
   "metadata": {},
   "outputs": [],
   "source": [
    "a = [1, 3, 5, 7, 9, 2, 4, 8]"
   ]
  },
  {
   "cell_type": "code",
   "execution_count": null,
   "metadata": {},
   "outputs": [],
   "source": [
    "sum(a)/len(a)"
   ]
  },
  {
   "cell_type": "markdown",
   "metadata": {},
   "source": [
    "## 3. 除去 list 中重複的元素。"
   ]
  },
  {
   "cell_type": "code",
   "execution_count": null,
   "metadata": {},
   "outputs": [],
   "source": [
    "import random\n",
    "a = [1] * 5 + [2] * 3 + [3] * 4\n",
    "random.shuffle(a)"
   ]
  },
  {
   "cell_type": "code",
   "execution_count": null,
   "metadata": {},
   "outputs": [],
   "source": [
    "a"
   ]
  },
  {
   "cell_type": "markdown",
   "metadata": {},
   "source": [
    "## 4. 給定一個字典，輸出特定結果。\n",
    "\n",
    "給定如下的字典：\n",
    "```python\n",
    "fruits = {'蘋果':10, '柳丁':20, '香蕉':30}\n",
    "```\n",
    "\n",
    "請輸出如下結果：\n",
    "\n",
    "    蘋果一斤10元。\n",
    "    柳丁一斤20元。\n",
    "    香蕉一斤30元。"
   ]
  },
  {
   "cell_type": "code",
   "execution_count": null,
   "metadata": {},
   "outputs": [],
   "source": [
    "fruits = {'蘋果':10, '柳丁':20, '香蕉':30}"
   ]
  },
  {
   "cell_type": "markdown",
   "metadata": {},
   "source": [
    "## 5. 摩斯電碼轉換 "
   ]
  },
  {
   "cell_type": "markdown",
   "metadata": {},
   "source": [
    "給定如下的字典：\n",
    "```python\n",
    "CODE = {'A': '.-',     'B': '-...',   'C': '-.-.',\n",
    "        'D': '-..',    'E': '.',      'F': '..-.',\n",
    "        'G': '--.',    'H': '....',   'I': '..',\n",
    "        'J': '.---',   'K': '-.-',    'L': '.-..',\n",
    "        'M': '--',     'N': '-.',     'O': '---',\n",
    "        'P': '.--.',   'Q': '--.-',   'R': '.-.',\n",
    "     \t'S': '...',    'T': '-',      'U': '..-',\n",
    "        'V': '...-',   'W': '.--',    'X': '-..-',\n",
    "        'Y': '-.--',   'Z': '--..',\n",
    "\n",
    "        '0': '-----',  '1': '.----',  '2': '..---',\n",
    "        '3': '...--',  '4': '....-',  '5': '.....',\n",
    "        '6': '-....',  '7': '--...',  '8': '---..',\n",
    "        '9': '----.'\n",
    "        }\n",
    "```\n",
    "\n",
    "請將指定的訊息 MSG，轉換成摩斯電碼！"
   ]
  },
  {
   "cell_type": "code",
   "execution_count": null,
   "metadata": {},
   "outputs": [],
   "source": []
  }
 ],
 "metadata": {
  "kernelspec": {
   "display_name": "Python 3",
   "language": "python",
   "name": "python3"
  },
  "language_info": {
   "codemirror_mode": {
    "name": "ipython",
    "version": 3
   },
   "file_extension": ".py",
   "mimetype": "text/x-python",
   "name": "python",
   "nbconvert_exporter": "python",
   "pygments_lexer": "ipython3",
   "version": "3.6.4"
  }
 },
 "nbformat": 4,
 "nbformat_minor": 2
}
